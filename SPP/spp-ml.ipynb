{
 "cells": [
  {
   "cell_type": "code",
   "execution_count": 4,
   "id": "d2620d11",
   "metadata": {},
   "outputs": [],
   "source": [
    "import numpy as np\n",
    "import pandas as pd \n",
    "import matplotlib.pyplot as plt\n",
    "import pandas_datareader as data\n",
    "import sklearn as sk\n",
    "from sklearn.preprocessing import MaxAbsScaler\n",
    "import yfinance as yf"
   ]
  },
  {
   "cell_type": "code",
   "execution_count": 5,
   "id": "12b65a13",
   "metadata": {},
   "outputs": [],
   "source": [
    "symbol = 'SBIN.NS'\n",
    "ticker = yf.Ticker(symbol)"
   ]
  },
  {
   "cell_type": "code",
   "execution_count": 6,
   "id": "eb9457ad",
   "metadata": {},
   "outputs": [],
   "source": [
    "stock = ticker.history(start ='2019-01-01', end ='2020-01-01')"
   ]
  },
  {
   "cell_type": "code",
   "execution_count": 7,
   "id": "0043b948",
   "metadata": {},
   "outputs": [
    {
     "data": {
      "text/html": [
       "<div>\n",
       "<style scoped>\n",
       "    .dataframe tbody tr th:only-of-type {\n",
       "        vertical-align: middle;\n",
       "    }\n",
       "\n",
       "    .dataframe tbody tr th {\n",
       "        vertical-align: top;\n",
       "    }\n",
       "\n",
       "    .dataframe thead th {\n",
       "        text-align: right;\n",
       "    }\n",
       "</style>\n",
       "<table border=\"1\" class=\"dataframe\">\n",
       "  <thead>\n",
       "    <tr style=\"text-align: right;\">\n",
       "      <th></th>\n",
       "      <th>Open</th>\n",
       "      <th>High</th>\n",
       "      <th>Low</th>\n",
       "      <th>Close</th>\n",
       "      <th>Volume</th>\n",
       "      <th>Dividends</th>\n",
       "      <th>Stock Splits</th>\n",
       "    </tr>\n",
       "    <tr>\n",
       "      <th>Date</th>\n",
       "      <th></th>\n",
       "      <th></th>\n",
       "      <th></th>\n",
       "      <th></th>\n",
       "      <th></th>\n",
       "      <th></th>\n",
       "      <th></th>\n",
       "    </tr>\n",
       "  </thead>\n",
       "  <tbody>\n",
       "    <tr>\n",
       "      <th>2019-01-01 00:00:00+05:30</th>\n",
       "      <td>290.248787</td>\n",
       "      <td>293.370802</td>\n",
       "      <td>286.687757</td>\n",
       "      <td>292.297607</td>\n",
       "      <td>11837127</td>\n",
       "      <td>0.0</td>\n",
       "      <td>0.0</td>\n",
       "    </tr>\n",
       "    <tr>\n",
       "      <th>2019-01-02 00:00:00+05:30</th>\n",
       "      <td>291.809779</td>\n",
       "      <td>295.126902</td>\n",
       "      <td>285.956022</td>\n",
       "      <td>286.736511</td>\n",
       "      <td>25559853</td>\n",
       "      <td>0.0</td>\n",
       "      <td>0.0</td>\n",
       "    </tr>\n",
       "    <tr>\n",
       "      <th>2019-01-03 00:00:00+05:30</th>\n",
       "      <td>287.809727</td>\n",
       "      <td>288.346310</td>\n",
       "      <td>283.029165</td>\n",
       "      <td>284.004791</td>\n",
       "      <td>17548347</td>\n",
       "      <td>0.0</td>\n",
       "      <td>0.0</td>\n",
       "    </tr>\n",
       "    <tr>\n",
       "      <th>2019-01-04 00:00:00+05:30</th>\n",
       "      <td>284.980398</td>\n",
       "      <td>291.712212</td>\n",
       "      <td>284.395016</td>\n",
       "      <td>290.395111</td>\n",
       "      <td>19514041</td>\n",
       "      <td>0.0</td>\n",
       "      <td>0.0</td>\n",
       "    </tr>\n",
       "    <tr>\n",
       "      <th>2019-01-07 00:00:00+05:30</th>\n",
       "      <td>293.712258</td>\n",
       "      <td>294.151302</td>\n",
       "      <td>288.004868</td>\n",
       "      <td>289.078033</td>\n",
       "      <td>14579399</td>\n",
       "      <td>0.0</td>\n",
       "      <td>0.0</td>\n",
       "    </tr>\n",
       "    <tr>\n",
       "      <th>...</th>\n",
       "      <td>...</td>\n",
       "      <td>...</td>\n",
       "      <td>...</td>\n",
       "      <td>...</td>\n",
       "      <td>...</td>\n",
       "      <td>...</td>\n",
       "      <td>...</td>\n",
       "    </tr>\n",
       "    <tr>\n",
       "      <th>2019-12-24 00:00:00+05:30</th>\n",
       "      <td>325.078653</td>\n",
       "      <td>326.054279</td>\n",
       "      <td>321.176148</td>\n",
       "      <td>323.371307</td>\n",
       "      <td>21747782</td>\n",
       "      <td>0.0</td>\n",
       "      <td>0.0</td>\n",
       "    </tr>\n",
       "    <tr>\n",
       "      <th>2019-12-26 00:00:00+05:30</th>\n",
       "      <td>324.883519</td>\n",
       "      <td>325.322563</td>\n",
       "      <td>320.102957</td>\n",
       "      <td>321.810303</td>\n",
       "      <td>24616942</td>\n",
       "      <td>0.0</td>\n",
       "      <td>0.0</td>\n",
       "    </tr>\n",
       "    <tr>\n",
       "      <th>2019-12-27 00:00:00+05:30</th>\n",
       "      <td>325.273771</td>\n",
       "      <td>330.103133</td>\n",
       "      <td>324.883526</td>\n",
       "      <td>329.029938</td>\n",
       "      <td>33477173</td>\n",
       "      <td>0.0</td>\n",
       "      <td>0.0</td>\n",
       "    </tr>\n",
       "    <tr>\n",
       "      <th>2019-12-30 00:00:00+05:30</th>\n",
       "      <td>329.517743</td>\n",
       "      <td>329.615312</td>\n",
       "      <td>324.395706</td>\n",
       "      <td>326.249390</td>\n",
       "      <td>22775554</td>\n",
       "      <td>0.0</td>\n",
       "      <td>0.0</td>\n",
       "    </tr>\n",
       "    <tr>\n",
       "      <th>2019-12-31 00:00:00+05:30</th>\n",
       "      <td>326.249385</td>\n",
       "      <td>328.151868</td>\n",
       "      <td>324.444471</td>\n",
       "      <td>325.615234</td>\n",
       "      <td>23801635</td>\n",
       "      <td>0.0</td>\n",
       "      <td>0.0</td>\n",
       "    </tr>\n",
       "  </tbody>\n",
       "</table>\n",
       "<p>243 rows × 7 columns</p>\n",
       "</div>"
      ],
      "text/plain": [
       "                                 Open        High         Low       Close   \n",
       "Date                                                                        \n",
       "2019-01-01 00:00:00+05:30  290.248787  293.370802  286.687757  292.297607  \\\n",
       "2019-01-02 00:00:00+05:30  291.809779  295.126902  285.956022  286.736511   \n",
       "2019-01-03 00:00:00+05:30  287.809727  288.346310  283.029165  284.004791   \n",
       "2019-01-04 00:00:00+05:30  284.980398  291.712212  284.395016  290.395111   \n",
       "2019-01-07 00:00:00+05:30  293.712258  294.151302  288.004868  289.078033   \n",
       "...                               ...         ...         ...         ...   \n",
       "2019-12-24 00:00:00+05:30  325.078653  326.054279  321.176148  323.371307   \n",
       "2019-12-26 00:00:00+05:30  324.883519  325.322563  320.102957  321.810303   \n",
       "2019-12-27 00:00:00+05:30  325.273771  330.103133  324.883526  329.029938   \n",
       "2019-12-30 00:00:00+05:30  329.517743  329.615312  324.395706  326.249390   \n",
       "2019-12-31 00:00:00+05:30  326.249385  328.151868  324.444471  325.615234   \n",
       "\n",
       "                             Volume  Dividends  Stock Splits  \n",
       "Date                                                          \n",
       "2019-01-01 00:00:00+05:30  11837127        0.0           0.0  \n",
       "2019-01-02 00:00:00+05:30  25559853        0.0           0.0  \n",
       "2019-01-03 00:00:00+05:30  17548347        0.0           0.0  \n",
       "2019-01-04 00:00:00+05:30  19514041        0.0           0.0  \n",
       "2019-01-07 00:00:00+05:30  14579399        0.0           0.0  \n",
       "...                             ...        ...           ...  \n",
       "2019-12-24 00:00:00+05:30  21747782        0.0           0.0  \n",
       "2019-12-26 00:00:00+05:30  24616942        0.0           0.0  \n",
       "2019-12-27 00:00:00+05:30  33477173        0.0           0.0  \n",
       "2019-12-30 00:00:00+05:30  22775554        0.0           0.0  \n",
       "2019-12-31 00:00:00+05:30  23801635        0.0           0.0  \n",
       "\n",
       "[243 rows x 7 columns]"
      ]
     },
     "execution_count": 7,
     "metadata": {},
     "output_type": "execute_result"
    }
   ],
   "source": [
    "stock"
   ]
  },
  {
   "cell_type": "code",
   "execution_count": 8,
   "id": "ab6de892",
   "metadata": {},
   "outputs": [
    {
     "data": {
      "text/html": [
       "<div>\n",
       "<style scoped>\n",
       "    .dataframe tbody tr th:only-of-type {\n",
       "        vertical-align: middle;\n",
       "    }\n",
       "\n",
       "    .dataframe tbody tr th {\n",
       "        vertical-align: top;\n",
       "    }\n",
       "\n",
       "    .dataframe thead th {\n",
       "        text-align: right;\n",
       "    }\n",
       "</style>\n",
       "<table border=\"1\" class=\"dataframe\">\n",
       "  <thead>\n",
       "    <tr style=\"text-align: right;\">\n",
       "      <th></th>\n",
       "      <th>Open</th>\n",
       "      <th>High</th>\n",
       "      <th>Low</th>\n",
       "      <th>Close</th>\n",
       "      <th>Volume</th>\n",
       "      <th>Dividends</th>\n",
       "      <th>Stock Splits</th>\n",
       "    </tr>\n",
       "    <tr>\n",
       "      <th>Date</th>\n",
       "      <th></th>\n",
       "      <th></th>\n",
       "      <th></th>\n",
       "      <th></th>\n",
       "      <th></th>\n",
       "      <th></th>\n",
       "      <th></th>\n",
       "    </tr>\n",
       "  </thead>\n",
       "  <tbody>\n",
       "    <tr>\n",
       "      <th>2019-12-24 00:00:00+05:30</th>\n",
       "      <td>325.078653</td>\n",
       "      <td>326.054279</td>\n",
       "      <td>321.176148</td>\n",
       "      <td>323.371307</td>\n",
       "      <td>21747782</td>\n",
       "      <td>0.0</td>\n",
       "      <td>0.0</td>\n",
       "    </tr>\n",
       "    <tr>\n",
       "      <th>2019-12-26 00:00:00+05:30</th>\n",
       "      <td>324.883519</td>\n",
       "      <td>325.322563</td>\n",
       "      <td>320.102957</td>\n",
       "      <td>321.810303</td>\n",
       "      <td>24616942</td>\n",
       "      <td>0.0</td>\n",
       "      <td>0.0</td>\n",
       "    </tr>\n",
       "    <tr>\n",
       "      <th>2019-12-27 00:00:00+05:30</th>\n",
       "      <td>325.273771</td>\n",
       "      <td>330.103133</td>\n",
       "      <td>324.883526</td>\n",
       "      <td>329.029938</td>\n",
       "      <td>33477173</td>\n",
       "      <td>0.0</td>\n",
       "      <td>0.0</td>\n",
       "    </tr>\n",
       "    <tr>\n",
       "      <th>2019-12-30 00:00:00+05:30</th>\n",
       "      <td>329.517743</td>\n",
       "      <td>329.615312</td>\n",
       "      <td>324.395706</td>\n",
       "      <td>326.249390</td>\n",
       "      <td>22775554</td>\n",
       "      <td>0.0</td>\n",
       "      <td>0.0</td>\n",
       "    </tr>\n",
       "    <tr>\n",
       "      <th>2019-12-31 00:00:00+05:30</th>\n",
       "      <td>326.249385</td>\n",
       "      <td>328.151868</td>\n",
       "      <td>324.444471</td>\n",
       "      <td>325.615234</td>\n",
       "      <td>23801635</td>\n",
       "      <td>0.0</td>\n",
       "      <td>0.0</td>\n",
       "    </tr>\n",
       "  </tbody>\n",
       "</table>\n",
       "</div>"
      ],
      "text/plain": [
       "                                 Open        High         Low       Close   \n",
       "Date                                                                        \n",
       "2019-12-24 00:00:00+05:30  325.078653  326.054279  321.176148  323.371307  \\\n",
       "2019-12-26 00:00:00+05:30  324.883519  325.322563  320.102957  321.810303   \n",
       "2019-12-27 00:00:00+05:30  325.273771  330.103133  324.883526  329.029938   \n",
       "2019-12-30 00:00:00+05:30  329.517743  329.615312  324.395706  326.249390   \n",
       "2019-12-31 00:00:00+05:30  326.249385  328.151868  324.444471  325.615234   \n",
       "\n",
       "                             Volume  Dividends  Stock Splits  \n",
       "Date                                                          \n",
       "2019-12-24 00:00:00+05:30  21747782        0.0           0.0  \n",
       "2019-12-26 00:00:00+05:30  24616942        0.0           0.0  \n",
       "2019-12-27 00:00:00+05:30  33477173        0.0           0.0  \n",
       "2019-12-30 00:00:00+05:30  22775554        0.0           0.0  \n",
       "2019-12-31 00:00:00+05:30  23801635        0.0           0.0  "
      ]
     },
     "execution_count": 8,
     "metadata": {},
     "output_type": "execute_result"
    }
   ],
   "source": [
    "stock.tail()"
   ]
  },
  {
   "cell_type": "code",
   "execution_count": 9,
   "id": "45633a20",
   "metadata": {},
   "outputs": [
    {
     "data": {
      "text/html": [
       "<div>\n",
       "<style scoped>\n",
       "    .dataframe tbody tr th:only-of-type {\n",
       "        vertical-align: middle;\n",
       "    }\n",
       "\n",
       "    .dataframe tbody tr th {\n",
       "        vertical-align: top;\n",
       "    }\n",
       "\n",
       "    .dataframe thead th {\n",
       "        text-align: right;\n",
       "    }\n",
       "</style>\n",
       "<table border=\"1\" class=\"dataframe\">\n",
       "  <thead>\n",
       "    <tr style=\"text-align: right;\">\n",
       "      <th></th>\n",
       "      <th>Date</th>\n",
       "      <th>Open</th>\n",
       "      <th>High</th>\n",
       "      <th>Low</th>\n",
       "      <th>Close</th>\n",
       "      <th>Volume</th>\n",
       "      <th>Dividends</th>\n",
       "      <th>Stock Splits</th>\n",
       "    </tr>\n",
       "  </thead>\n",
       "  <tbody>\n",
       "    <tr>\n",
       "      <th>0</th>\n",
       "      <td>2019-01-01 00:00:00+05:30</td>\n",
       "      <td>290.248787</td>\n",
       "      <td>293.370802</td>\n",
       "      <td>286.687757</td>\n",
       "      <td>292.297607</td>\n",
       "      <td>11837127</td>\n",
       "      <td>0.0</td>\n",
       "      <td>0.0</td>\n",
       "    </tr>\n",
       "    <tr>\n",
       "      <th>1</th>\n",
       "      <td>2019-01-02 00:00:00+05:30</td>\n",
       "      <td>291.809779</td>\n",
       "      <td>295.126902</td>\n",
       "      <td>285.956022</td>\n",
       "      <td>286.736511</td>\n",
       "      <td>25559853</td>\n",
       "      <td>0.0</td>\n",
       "      <td>0.0</td>\n",
       "    </tr>\n",
       "    <tr>\n",
       "      <th>2</th>\n",
       "      <td>2019-01-03 00:00:00+05:30</td>\n",
       "      <td>287.809727</td>\n",
       "      <td>288.346310</td>\n",
       "      <td>283.029165</td>\n",
       "      <td>284.004791</td>\n",
       "      <td>17548347</td>\n",
       "      <td>0.0</td>\n",
       "      <td>0.0</td>\n",
       "    </tr>\n",
       "    <tr>\n",
       "      <th>3</th>\n",
       "      <td>2019-01-04 00:00:00+05:30</td>\n",
       "      <td>284.980398</td>\n",
       "      <td>291.712212</td>\n",
       "      <td>284.395016</td>\n",
       "      <td>290.395111</td>\n",
       "      <td>19514041</td>\n",
       "      <td>0.0</td>\n",
       "      <td>0.0</td>\n",
       "    </tr>\n",
       "    <tr>\n",
       "      <th>4</th>\n",
       "      <td>2019-01-07 00:00:00+05:30</td>\n",
       "      <td>293.712258</td>\n",
       "      <td>294.151302</td>\n",
       "      <td>288.004868</td>\n",
       "      <td>289.078033</td>\n",
       "      <td>14579399</td>\n",
       "      <td>0.0</td>\n",
       "      <td>0.0</td>\n",
       "    </tr>\n",
       "  </tbody>\n",
       "</table>\n",
       "</div>"
      ],
      "text/plain": [
       "                       Date        Open        High         Low       Close   \n",
       "0 2019-01-01 00:00:00+05:30  290.248787  293.370802  286.687757  292.297607  \\\n",
       "1 2019-01-02 00:00:00+05:30  291.809779  295.126902  285.956022  286.736511   \n",
       "2 2019-01-03 00:00:00+05:30  287.809727  288.346310  283.029165  284.004791   \n",
       "3 2019-01-04 00:00:00+05:30  284.980398  291.712212  284.395016  290.395111   \n",
       "4 2019-01-07 00:00:00+05:30  293.712258  294.151302  288.004868  289.078033   \n",
       "\n",
       "     Volume  Dividends  Stock Splits  \n",
       "0  11837127        0.0           0.0  \n",
       "1  25559853        0.0           0.0  \n",
       "2  17548347        0.0           0.0  \n",
       "3  19514041        0.0           0.0  \n",
       "4  14579399        0.0           0.0  "
      ]
     },
     "execution_count": 9,
     "metadata": {},
     "output_type": "execute_result"
    }
   ],
   "source": [
    "stock = stock.reset_index()\n",
    "stock.head()"
   ]
  },
  {
   "cell_type": "code",
   "execution_count": 10,
   "id": "1bb1ba9a",
   "metadata": {},
   "outputs": [
    {
     "data": {
      "image/png": "[encoded data removed]",
      "text/plain": [
       "<Figure size 640x480 with 1 Axes>"
      ]
     },
     "metadata": {},
     "output_type": "display_data"
    }
   ],
   "source": [
    "plt.plot(stock['Date'], stock['Close'])\n",
    "plt.show()"
   ]
  },
  {
   "cell_type": "code",
   "execution_count": 11,
   "id": "a1497285",
   "metadata": {},
   "outputs": [
    {
     "data": {
      "text/plain": [
       "0             NaN\n",
       "1             NaN\n",
       "2             NaN\n",
       "3             NaN\n",
       "4             NaN\n",
       "          ...    \n",
       "238    291.819064\n",
       "239    291.694672\n",
       "240    291.630769\n",
       "241    291.697599\n",
       "242    291.712721\n",
       "Name: Close, Length: 243, dtype: float64"
      ]
     },
     "execution_count": 11,
     "metadata": {},
     "output_type": "execute_result"
    }
   ],
   "source": [
    "ma100 = stock.Close.rolling(100).mean()\n",
    "ma100"
   ]
  },
  {
   "cell_type": "code",
   "execution_count": 15,
   "id": "006a002f",
   "metadata": {},
   "outputs": [
    {
     "data": {
      "image/png": "[encoded data removed]",
      "text/plain": [
       "<Figure size 640x480 with 1 Axes>"
      ]
     },
     "metadata": {},
     "output_type": "display_data"
    }
   ],
   "source": [
    "plt.plot(stock.Close)\n",
    "plt.plot(ma100,'r')\n",
    "plt.xlabel(\"Days\")\n",
    "plt.ylabel(\"Price\")\n",
    "plt.title(\"Stock Price with 100MA\")\n",
    "plt.show()"
   ]
  },
  {
   "cell_type": "code",
   "execution_count": 13,
   "id": "432e82c0",
   "metadata": {},
   "outputs": [
    {
     "data": {
      "text/plain": [
       "0             NaN\n",
       "1             NaN\n",
       "2             NaN\n",
       "3             NaN\n",
       "4             NaN\n",
       "          ...    \n",
       "238    305.387341\n",
       "239    305.697102\n",
       "240    306.036620\n",
       "241    306.355406\n",
       "242    306.651996\n",
       "Name: Close, Length: 243, dtype: float64"
      ]
     },
     "execution_count": 13,
     "metadata": {},
     "output_type": "execute_result"
    }
   ],
   "source": [
    "ma200 = stock.Close.rolling(200).mean()\n",
    "ma200"
   ]
  },
  {
   "cell_type": "code",
   "execution_count": 14,
   "id": "48b24f40",
   "metadata": {},
   "outputs": [
    {
     "data": {
      "image/png": "[encoded data removed]",
      "text/plain": [
       "<Figure size 1200x600 with 1 Axes>"
      ]
     },
     "metadata": {},
     "output_type": "display_data"
    }
   ],
   "source": [
    "plt.figure(figsize = (12,6))\n",
    "plt.plot(stock.Close)\n",
    "plt.plot(ma100,'r')\n",
    "plt.plot(ma200,'b')\n",
    "plt.xlabel(\"Days\")\n",
    "plt.ylabel(\"Price\")\n",
    "plt.title(\"Stock Price with 100MA and 200MA\")\n",
    "plt.show()"
   ]
  },
  {
   "cell_type": "code",
   "execution_count": 43,
   "id": "bc0b0374",
   "metadata": {},
   "outputs": [
    {
     "data": {
      "text/plain": [
       "(243, 8)"
      ]
     },
     "execution_count": 43,
     "metadata": {},
     "output_type": "execute_result"
    }
   ],
   "source": [
    "stock.shape"
   ]
  },
  {
   "cell_type": "code",
   "execution_count": 44,
   "id": "07f35362",
   "metadata": {},
   "outputs": [
    {
     "name": "stdout",
     "output_type": "stream",
     "text": [
      "(170, 1)\n",
      "(73, 1)\n"
     ]
    }
   ],
   "source": [
    "#splitting data into training and testing\n",
    "data_train = pd.DataFrame(stock['Close'][0:int(len(stock)*0.70)])\n",
    "data_test = pd.DataFrame(stock['Close'][int(len(stock)*0.70):int(len(stock))])\n",
    "\n",
    "\n",
    "\n",
    "print(data_train.shape)\n",
    "print(data_test.shape)"
   ]
  },
  {
   "cell_type": "code",
   "execution_count": 45,
   "id": "35589789",
   "metadata": {},
   "outputs": [
    {
     "data": {
      "text/html": [
       "<div>\n",
       "<style scoped>\n",
       "    .dataframe tbody tr th:only-of-type {\n",
       "        vertical-align: middle;\n",
       "    }\n",
       "\n",
       "    .dataframe tbody tr th {\n",
       "        vertical-align: top;\n",
       "    }\n",
       "\n",
       "    .dataframe thead th {\n",
       "        text-align: right;\n",
       "    }\n",
       "</style>\n",
       "<table border=\"1\" class=\"dataframe\">\n",
       "  <thead>\n",
       "    <tr style=\"text-align: right;\">\n",
       "      <th></th>\n",
       "      <th>Close</th>\n",
       "    </tr>\n",
       "  </thead>\n",
       "  <tbody>\n",
       "    <tr>\n",
       "      <th>0</th>\n",
       "      <td>292.297607</td>\n",
       "    </tr>\n",
       "    <tr>\n",
       "      <th>1</th>\n",
       "      <td>286.736511</td>\n",
       "    </tr>\n",
       "    <tr>\n",
       "      <th>2</th>\n",
       "      <td>284.004791</td>\n",
       "    </tr>\n",
       "    <tr>\n",
       "      <th>3</th>\n",
       "      <td>290.395111</td>\n",
       "    </tr>\n",
       "    <tr>\n",
       "      <th>4</th>\n",
       "      <td>289.078033</td>\n",
       "    </tr>\n",
       "  </tbody>\n",
       "</table>\n",
       "</div>"
      ],
      "text/plain": [
       "        Close\n",
       "0  292.297607\n",
       "1  286.736511\n",
       "2  284.004791\n",
       "3  290.395111\n",
       "4  289.078033"
      ]
     },
     "execution_count": 45,
     "metadata": {},
     "output_type": "execute_result"
    }
   ],
   "source": [
    "data_train.head()"
   ]
  },
  {
   "cell_type": "code",
   "execution_count": 46,
   "id": "d01e4c1d",
   "metadata": {},
   "outputs": [
    {
     "data": {
      "text/html": [
       "<div>\n",
       "<style scoped>\n",
       "    .dataframe tbody tr th:only-of-type {\n",
       "        vertical-align: middle;\n",
       "    }\n",
       "\n",
       "    .dataframe tbody tr th {\n",
       "        vertical-align: top;\n",
       "    }\n",
       "\n",
       "    .dataframe thead th {\n",
       "        text-align: right;\n",
       "    }\n",
       "</style>\n",
       "<table border=\"1\" class=\"dataframe\">\n",
       "  <thead>\n",
       "    <tr style=\"text-align: right;\">\n",
       "      <th></th>\n",
       "      <th>Close</th>\n",
       "    </tr>\n",
       "  </thead>\n",
       "  <tbody>\n",
       "    <tr>\n",
       "      <th>170</th>\n",
       "      <td>284.590179</td>\n",
       "    </tr>\n",
       "    <tr>\n",
       "      <th>171</th>\n",
       "      <td>277.760803</td>\n",
       "    </tr>\n",
       "    <tr>\n",
       "      <th>172</th>\n",
       "      <td>267.272827</td>\n",
       "    </tr>\n",
       "    <tr>\n",
       "      <th>173</th>\n",
       "      <td>273.565582</td>\n",
       "    </tr>\n",
       "    <tr>\n",
       "      <th>174</th>\n",
       "      <td>267.370331</td>\n",
       "    </tr>\n",
       "  </tbody>\n",
       "</table>\n",
       "</div>"
      ],
      "text/plain": [
       "          Close\n",
       "170  284.590179\n",
       "171  277.760803\n",
       "172  267.272827\n",
       "173  273.565582\n",
       "174  267.370331"
      ]
     },
     "execution_count": 46,
     "metadata": {},
     "output_type": "execute_result"
    }
   ],
   "source": [
    "data_test.head()"
   ]
  },
  {
   "cell_type": "code",
   "execution_count": 47,
   "id": "13a6d63e",
   "metadata": {},
   "outputs": [],
   "source": [
    "from sklearn.preprocessing import MinMaxScaler\n",
    "scaler = MinMaxScaler(feature_range = (0,1))\n"
   ]
  },
  {
   "cell_type": "code",
   "execution_count": 48,
   "id": "e5e0e1a1",
   "metadata": {},
   "outputs": [
    {
     "data": {
      "text/plain": [
       "array([[0.35260111],\n",
       "       [0.30191165],\n",
       "       [0.277012  ],\n",
       "       [0.33525983],\n",
       "       [0.32325466],\n",
       "       [0.40329   ],\n",
       "       [0.40329   ],\n",
       "       [0.4055134 ],\n",
       "       [0.38061347],\n",
       "       [0.35971553],\n",
       "       [0.37083141],\n",
       "       [0.38417068],\n",
       "       [0.33303671],\n",
       "       [0.31124948],\n",
       "       [0.28901745],\n",
       "       [0.26945306],\n",
       "       [0.2374387 ],\n",
       "       [0.24988866],\n",
       "       [0.22632254],\n",
       "       [0.19253013],\n",
       "       [0.1836371 ],\n",
       "       [0.24455312],\n",
       "       [0.29968854],\n",
       "       [0.21742979],\n",
       "       [0.21342834],\n",
       "       [0.21965291],\n",
       "       [0.2587817 ],\n",
       "       [0.24410833],\n",
       "       [0.23165836],\n",
       "       [0.18274779],\n",
       "       [0.13739444],\n",
       "       [0.06358366],\n",
       "       [0.02667854],\n",
       "       [0.        ],\n",
       "       [0.02623375],\n",
       "       [0.06891948],\n",
       "       [0.07158739],\n",
       "       [0.09782114],\n",
       "       [0.09070671],\n",
       "       [0.0569143 ],\n",
       "       [0.06847468],\n",
       "       [0.08092465],\n",
       "       [0.11560693],\n",
       "       [0.14673198],\n",
       "       [0.16140507],\n",
       "       [0.19386367],\n",
       "       [0.18897292],\n",
       "       [0.2436641 ],\n",
       "       [0.23966181],\n",
       "       [0.2952423 ],\n",
       "       [0.28412642],\n",
       "       [0.34192975],\n",
       "       [0.34682105],\n",
       "       [0.38328138],\n",
       "       [0.38995101],\n",
       "       [0.33881705],\n",
       "       [0.30280124],\n",
       "       [0.38728338],\n",
       "       [0.43441506],\n",
       "       [0.52512233],\n",
       "       [0.55847051],\n",
       "       [0.61405071],\n",
       "       [0.5384616 ],\n",
       "       [0.55002199],\n",
       "       [0.50778106],\n",
       "       [0.46998664],\n",
       "       [0.48732764],\n",
       "       [0.45309043],\n",
       "       [0.48866145],\n",
       "       [0.49177415],\n",
       "       [0.49488658],\n",
       "       [0.49622039],\n",
       "       [0.45220085],\n",
       "       [0.44553122],\n",
       "       [0.40284549],\n",
       "       [0.45175634],\n",
       "       [0.41129401],\n",
       "       [0.46731873],\n",
       "       [0.44464219],\n",
       "       [0.42863473],\n",
       "       [0.4450867 ],\n",
       "       [0.43397055],\n",
       "       [0.40462438],\n",
       "       [0.34059565],\n",
       "       [0.34993292],\n",
       "       [0.42774571],\n",
       "       [0.41751886],\n",
       "       [0.48643833],\n",
       "       [0.46376152],\n",
       "       [0.49622039],\n",
       "       [0.52734545],\n",
       "       [0.75366827],\n",
       "       [0.69008462],\n",
       "       [0.72165419],\n",
       "       [0.73143625],\n",
       "       [0.84837726],\n",
       "       [0.90484705],\n",
       "       [0.89017341],\n",
       "       [0.78879506],\n",
       "       [0.83236981],\n",
       "       [0.82303254],\n",
       "       [0.84926657],\n",
       "       [0.82214323],\n",
       "       [0.68430401],\n",
       "       [0.73010215],\n",
       "       [0.75011106],\n",
       "       [0.77501127],\n",
       "       [0.74744343],\n",
       "       [0.76967545],\n",
       "       [0.74566482],\n",
       "       [0.69275253],\n",
       "       [0.71231664],\n",
       "       [0.70164528],\n",
       "       [0.75767   ],\n",
       "       [0.79546469],\n",
       "       [0.82925766],\n",
       "       [0.85904863],\n",
       "       [0.87327692],\n",
       "       [0.9088485 ],\n",
       "       [0.90084477],\n",
       "       [0.90351268],\n",
       "       [0.92974671],\n",
       "       [0.9444198 ],\n",
       "       [0.95553567],\n",
       "       [0.98443761],\n",
       "       [0.84793247],\n",
       "       [0.88528238],\n",
       "       [0.83815042],\n",
       "       [0.91818604],\n",
       "       [0.92174326],\n",
       "       [0.89017341],\n",
       "       [0.92841261],\n",
       "       [1.        ],\n",
       "       [0.92218777],\n",
       "       [0.8541576 ],\n",
       "       [0.80835945],\n",
       "       [0.73143625],\n",
       "       [0.70831492],\n",
       "       [0.72343252],\n",
       "       [0.73499346],\n",
       "       [0.74566482],\n",
       "       [0.60115596],\n",
       "       [0.64250814],\n",
       "       [0.50867064],\n",
       "       [0.43130292],\n",
       "       [0.35838144],\n",
       "       [0.36860829],\n",
       "       [0.26634064],\n",
       "       [0.30591366],\n",
       "       [0.27923512],\n",
       "       [0.20809252],\n",
       "       [0.26500654],\n",
       "       [0.27523339],\n",
       "       [0.2392173 ],\n",
       "       [0.21120494],\n",
       "       [0.15517995],\n",
       "       [0.07647814],\n",
       "       [0.09915523],\n",
       "       [0.18008016],\n",
       "       [0.22899073],\n",
       "       [0.2218763 ],\n",
       "       [0.12939071],\n",
       "       [0.12361038],\n",
       "       [0.07514432],\n",
       "       [0.13472653],\n",
       "       [0.11871907],\n",
       "       [0.12449996],\n",
       "       [0.16051549],\n",
       "       [0.22498873],\n",
       "       [0.24099591]])"
      ]
     },
     "execution_count": 48,
     "metadata": {},
     "output_type": "execute_result"
    }
   ],
   "source": [
    "data_train_array = scaler.fit_transform(data_train)\n",
    "data_train_array"
   ]
  },
  {
   "cell_type": "code",
   "execution_count": 49,
   "id": "a649ba51",
   "metadata": {},
   "outputs": [
    {
     "data": {
      "text/plain": [
       "(170, 1)"
      ]
     },
     "execution_count": 49,
     "metadata": {},
     "output_type": "execute_result"
    }
   ],
   "source": [
    "data_train_array.shape"
   ]
  },
  {
   "cell_type": "code",
   "execution_count": 50,
   "id": "396e7691",
   "metadata": {},
   "outputs": [],
   "source": [
    "x_train =[]\n",
    "y_train =[]\n",
    "\n",
    "for i in range(100, data_train_array.shape[0]):\n",
    "    x_train.append(data_train_array[i-100: i])\n",
    "    y_train.append(data_train_array[i, 0])\n",
    "    \n",
    "x_train, y_train =np.array(x_train), np.array(y_train)   \n",
    "    "
   ]
  },
  {
   "cell_type": "code",
   "execution_count": 51,
   "id": "57453ce7",
   "metadata": {},
   "outputs": [
    {
     "data": {
      "text/plain": [
       "(70, 100, 1)"
      ]
     },
     "execution_count": 51,
     "metadata": {},
     "output_type": "execute_result"
    }
   ],
   "source": [
    "x_train.shape"
   ]
  },
  {
   "cell_type": "code",
   "execution_count": null,
   "id": "0dca11e4",
   "metadata": {},
   "outputs": [],
   "source": [
    "#ML Model"
   ]
  },
  {
   "cell_type": "code",
   "execution_count": 52,
   "id": "2cd3832d",
   "metadata": {},
   "outputs": [],
   "source": [
    "from keras.layers import Dense, Dropout, LSTM\n",
    "from keras.models import Sequential"
   ]
  },
  {
   "cell_type": "code",
   "execution_count": 53,
   "id": "577d8c49",
   "metadata": {},
   "outputs": [],
   "source": [
    "model = Sequential()\n",
    "model.add(LSTM(units = 50, activation = 'relu', return_sequences = True, input_shape = (x_train.shape[1], 1)))\n",
    "model.add(Dropout(0.2))\n",
    "\n",
    "model.add(LSTM(units = 60, activation = 'relu', return_sequences = True))\n",
    "model.add(Dropout(0.3))\n",
    "\n",
    "model.add(LSTM(units = 80, activation = 'relu', return_sequences = True))\n",
    "model.add(Dropout(0.4))\n",
    "\n",
    "model.add(LSTM(units = 120, activation = 'relu'))\n",
    "model.add(Dropout(0.5))\n",
    "\n",
    "\n",
    "model.add(Dense(units = 1))"
   ]
  },
  {
   "cell_type": "code",
   "execution_count": 54,
   "id": "594e5e4d",
   "metadata": {},
   "outputs": [
    {
     "name": "stdout",
     "output_type": "stream",
     "text": [
      "Model: \"sequential\"\n",
      "_________________________________________________________________\n",
      " Layer (type)                Output Shape              Param #   \n",
      "=================================================================\n",
      " lstm (LSTM)                 (None, 100, 50)           10400     \n",
      "                                                                 \n",
      " dropout (Dropout)           (None, 100, 50)           0         \n",
      "                                                                 \n",
      " lstm_1 (LSTM)               (None, 100, 60)           26640     \n",
      "                                                                 \n",
      " dropout_1 (Dropout)         (None, 100, 60)           0         \n",
      "                                                                 \n",
      " lstm_2 (LSTM)               (None, 100, 80)           45120     \n",
      "                                                                 \n",
      " dropout_2 (Dropout)         (None, 100, 80)           0         \n",
      "                                                                 \n",
      " lstm_3 (LSTM)               (None, 120)               96480     \n",
      "                                                                 \n",
      " dropout_3 (Dropout)         (None, 120)               0         \n",
      "                                                                 \n",
      " dense (Dense)               (None, 1)                 121       \n",
      "                                                                 \n",
      "=================================================================\n",
      "Total params: 178,761\n",
      "Trainable params: 178,761\n",
      "Non-trainable params: 0\n",
      "_________________________________________________________________\n"
     ]
    }
   ],
   "source": [
    "model.summary()"
   ]
  },
  {
   "cell_type": "code",
   "execution_count": 55,
   "id": "275f39ae",
   "metadata": {},
   "outputs": [
    {
     "name": "stdout",
     "output_type": "stream",
     "text": [
      "Epoch 1/50\n",
      "3/3 [==============================] - 5s 192ms/step - loss: 0.4221\n",
      "Epoch 2/50\n",
      "3/3 [==============================] - 1s 196ms/step - loss: 0.3223\n",
      "Epoch 3/50\n",
      "3/3 [==============================] - 1s 180ms/step - loss: 0.1691\n",
      "Epoch 4/50\n",
      "3/3 [==============================] - 1s 186ms/step - loss: 0.1141\n",
      "Epoch 5/50\n",
      "3/3 [==============================] - 1s 185ms/step - loss: 0.1138\n",
      "Epoch 6/50\n",
      "3/3 [==============================] - 1s 195ms/step - loss: 0.1131\n",
      "Epoch 7/50\n",
      "3/3 [==============================] - 1s 185ms/step - loss: 0.0923\n",
      "Epoch 8/50\n",
      "3/3 [==============================] - 1s 184ms/step - loss: 0.0971\n",
      "Epoch 9/50\n",
      "3/3 [==============================] - 1s 182ms/step - loss: 0.0851\n",
      "Epoch 10/50\n",
      "3/3 [==============================] - 1s 207ms/step - loss: 0.0816\n",
      "Epoch 11/50\n",
      "3/3 [==============================] - 1s 191ms/step - loss: 0.0919\n",
      "Epoch 12/50\n",
      "3/3 [==============================] - 1s 197ms/step - loss: 0.0833\n",
      "Epoch 13/50\n",
      "3/3 [==============================] - 1s 196ms/step - loss: 0.0842\n",
      "Epoch 14/50\n",
      "3/3 [==============================] - 1s 190ms/step - loss: 0.0830\n",
      "Epoch 15/50\n",
      "3/3 [==============================] - 1s 191ms/step - loss: 0.0947\n",
      "Epoch 16/50\n",
      "3/3 [==============================] - 1s 181ms/step - loss: 0.0741\n",
      "Epoch 17/50\n",
      "3/3 [==============================] - 1s 195ms/step - loss: 0.0774\n",
      "Epoch 18/50\n",
      "3/3 [==============================] - 1s 192ms/step - loss: 0.0769\n",
      "Epoch 19/50\n",
      "3/3 [==============================] - 1s 192ms/step - loss: 0.0689\n",
      "Epoch 20/50\n",
      "3/3 [==============================] - 1s 197ms/step - loss: 0.0794\n",
      "Epoch 21/50\n",
      "3/3 [==============================] - 1s 195ms/step - loss: 0.0545\n",
      "Epoch 22/50\n",
      "3/3 [==============================] - 1s 198ms/step - loss: 0.0761\n",
      "Epoch 23/50\n",
      "3/3 [==============================] - 1s 233ms/step - loss: 0.0631\n",
      "Epoch 24/50\n",
      "3/3 [==============================] - 1s 205ms/step - loss: 0.0539\n",
      "Epoch 25/50\n",
      "3/3 [==============================] - 1s 192ms/step - loss: 0.0508\n",
      "Epoch 26/50\n",
      "3/3 [==============================] - 1s 231ms/step - loss: 0.0494\n",
      "Epoch 27/50\n",
      "3/3 [==============================] - 1s 265ms/step - loss: 0.0413\n",
      "Epoch 28/50\n",
      "3/3 [==============================] - 1s 207ms/step - loss: 0.0557\n",
      "Epoch 29/50\n",
      "3/3 [==============================] - 1s 193ms/step - loss: 0.0405\n",
      "Epoch 30/50\n",
      "3/3 [==============================] - 1s 193ms/step - loss: 0.0372\n",
      "Epoch 31/50\n",
      "3/3 [==============================] - 1s 191ms/step - loss: 0.0448\n",
      "Epoch 32/50\n",
      "3/3 [==============================] - 1s 227ms/step - loss: 0.0213\n",
      "Epoch 33/50\n",
      "3/3 [==============================] - 1s 195ms/step - loss: 0.0351\n",
      "Epoch 34/50\n",
      "3/3 [==============================] - 1s 193ms/step - loss: 0.0401\n",
      "Epoch 35/50\n",
      "3/3 [==============================] - 1s 215ms/step - loss: 0.0539\n",
      "Epoch 36/50\n",
      "3/3 [==============================] - 1s 193ms/step - loss: 0.0398\n",
      "Epoch 37/50\n",
      "3/3 [==============================] - 1s 199ms/step - loss: 0.0370\n",
      "Epoch 38/50\n",
      "3/3 [==============================] - 1s 225ms/step - loss: 0.0497\n",
      "Epoch 39/50\n",
      "3/3 [==============================] - 1s 194ms/step - loss: 0.0403\n",
      "Epoch 40/50\n",
      "3/3 [==============================] - 1s 189ms/step - loss: 0.0422\n",
      "Epoch 41/50\n",
      "3/3 [==============================] - 1s 216ms/step - loss: 0.0364\n",
      "Epoch 42/50\n",
      "3/3 [==============================] - 1s 211ms/step - loss: 0.0331\n",
      "Epoch 43/50\n",
      "3/3 [==============================] - 1s 188ms/step - loss: 0.0310\n",
      "Epoch 44/50\n",
      "3/3 [==============================] - 1s 196ms/step - loss: 0.0362\n",
      "Epoch 45/50\n",
      "3/3 [==============================] - 1s 198ms/step - loss: 0.0478\n",
      "Epoch 46/50\n",
      "3/3 [==============================] - 1s 201ms/step - loss: 0.0296\n",
      "Epoch 47/50\n",
      "3/3 [==============================] - 1s 194ms/step - loss: 0.0339\n",
      "Epoch 48/50\n",
      "3/3 [==============================] - 1s 190ms/step - loss: 0.0353\n",
      "Epoch 49/50\n",
      "3/3 [==============================] - 1s 195ms/step - loss: 0.0287\n",
      "Epoch 50/50\n",
      "3/3 [==============================] - 1s 210ms/step - loss: 0.0346\n"
     ]
    },
    {
     "data": {
      "text/plain": [
       "<keras.callbacks.History at 0x21b7f502f50>"
      ]
     },
     "execution_count": 55,
     "metadata": {},
     "output_type": "execute_result"
    }
   ],
   "source": [
    "model.compile(optimizer = 'adam', loss = 'mean_squared_error')\n",
    "model.fit(x_train, y_train, epochs = 50)"
   ]
  },
  {
   "cell_type": "code",
   "execution_count": 56,
   "id": "7b736e69",
   "metadata": {},
   "outputs": [],
   "source": [
    "model.save('keras_model.h5')"
   ]
  },
  {
   "cell_type": "code",
   "execution_count": 57,
   "id": "0cc896ce",
   "metadata": {},
   "outputs": [
    {
     "data": {
      "text/html": [
       "<div>\n",
       "<style scoped>\n",
       "    .dataframe tbody tr th:only-of-type {\n",
       "        vertical-align: middle;\n",
       "    }\n",
       "\n",
       "    .dataframe tbody tr th {\n",
       "        vertical-align: top;\n",
       "    }\n",
       "\n",
       "    .dataframe thead th {\n",
       "        text-align: right;\n",
       "    }\n",
       "</style>\n",
       "<table border=\"1\" class=\"dataframe\">\n",
       "  <thead>\n",
       "    <tr style=\"text-align: right;\">\n",
       "      <th></th>\n",
       "      <th>Close</th>\n",
       "    </tr>\n",
       "  </thead>\n",
       "  <tbody>\n",
       "    <tr>\n",
       "      <th>170</th>\n",
       "      <td>284.590179</td>\n",
       "    </tr>\n",
       "    <tr>\n",
       "      <th>171</th>\n",
       "      <td>277.760803</td>\n",
       "    </tr>\n",
       "    <tr>\n",
       "      <th>172</th>\n",
       "      <td>267.272827</td>\n",
       "    </tr>\n",
       "    <tr>\n",
       "      <th>173</th>\n",
       "      <td>273.565582</td>\n",
       "    </tr>\n",
       "    <tr>\n",
       "      <th>174</th>\n",
       "      <td>267.370331</td>\n",
       "    </tr>\n",
       "  </tbody>\n",
       "</table>\n",
       "</div>"
      ],
      "text/plain": [
       "          Close\n",
       "170  284.590179\n",
       "171  277.760803\n",
       "172  267.272827\n",
       "173  273.565582\n",
       "174  267.370331"
      ]
     },
     "execution_count": 57,
     "metadata": {},
     "output_type": "execute_result"
    }
   ],
   "source": [
    "data_test.head()"
   ]
  },
  {
   "cell_type": "code",
   "execution_count": null,
   "id": "a0d2301d",
   "metadata": {},
   "outputs": [],
   "source": [
    "#data_train.tail(100)"
   ]
  },
  {
   "cell_type": "code",
   "execution_count": 58,
   "id": "04985c3e",
   "metadata": {},
   "outputs": [],
   "source": [
    "past_100_days = data_train.tail(100)"
   ]
  },
  {
   "cell_type": "code",
   "execution_count": 59,
   "id": "6c37a402",
   "metadata": {},
   "outputs": [],
   "source": [
    "\n",
    "final_stock = pd.concat([past_100_days, data_test]) ['Close']\n"
   ]
  },
  {
   "cell_type": "code",
   "execution_count": 60,
   "id": "000e0e7b",
   "metadata": {},
   "outputs": [
    {
     "data": {
      "text/plain": [
       "70    307.907623\n",
       "71    308.053955\n",
       "72    303.224609\n",
       "73    302.492889\n",
       "74    297.809875\n",
       "Name: Close, dtype: float64"
      ]
     },
     "execution_count": 60,
     "metadata": {},
     "output_type": "execute_result"
    }
   ],
   "source": [
    "final_stock.head()"
   ]
  },
  {
   "cell_type": "code",
   "execution_count": 61,
   "id": "f42d521d",
   "metadata": {},
   "outputs": [
    {
     "data": {
      "text/plain": [
       "array([[0.53933492],\n",
       "       [0.54055136],\n",
       "       [0.5004054 ],\n",
       "       [0.49432267],\n",
       "       [0.45539315],\n",
       "       [0.5       ],\n",
       "       [0.46309823],\n",
       "       [0.51419295],\n",
       "       [0.49351187],\n",
       "       [0.47891302],\n",
       "       [0.49391727],\n",
       "       [0.4837793 ],\n",
       "       [0.4570155 ],\n",
       "       [0.39862109],\n",
       "       [0.40713671],\n",
       "       [0.47810222],\n",
       "       [0.46877531],\n",
       "       [0.53163009],\n",
       "       [0.51094876],\n",
       "       [0.54055136],\n",
       "       [0.56893752],\n",
       "       [0.77534466],\n",
       "       [0.71735616],\n",
       "       [0.74614771],\n",
       "       [0.75506898],\n",
       "       [0.86171957],\n",
       "       [0.9132202 ],\n",
       "       [0.89983779],\n",
       "       [0.80738041],\n",
       "       [0.84712072],\n",
       "       [0.8386051 ],\n",
       "       [0.86253062],\n",
       "       [0.83779405],\n",
       "       [0.71208423],\n",
       "       [0.75385229],\n",
       "       [0.77210047],\n",
       "       [0.79480955],\n",
       "       [0.76966758],\n",
       "       [0.78994326],\n",
       "       [0.76804549],\n",
       "       [0.71978931],\n",
       "       [0.73763184],\n",
       "       [0.72789953],\n",
       "       [0.77899425],\n",
       "       [0.81346313],\n",
       "       [0.84428243],\n",
       "       [0.87145189],\n",
       "       [0.88442814],\n",
       "       [0.91686953],\n",
       "       [0.90957011],\n",
       "       [0.91200325],\n",
       "       [0.93592877],\n",
       "       [0.94931067],\n",
       "       [0.95944839],\n",
       "       [0.98580705],\n",
       "       [0.86131392],\n",
       "       [0.89537716],\n",
       "       [0.85239265],\n",
       "       [0.92538541],\n",
       "       [0.9286296 ],\n",
       "       [0.89983779],\n",
       "       [0.93471207],\n",
       "       [1.        ],\n",
       "       [0.92903499],\n",
       "       [0.86699125],\n",
       "       [0.8252232 ],\n",
       "       [0.75506898],\n",
       "       [0.73398226],\n",
       "       [0.74776956],\n",
       "       [0.75831317],\n",
       "       [0.76804549],\n",
       "       [0.63625294],\n",
       "       [0.67396626],\n",
       "       [0.55190603],\n",
       "       [0.48134641],\n",
       "       [0.41484179],\n",
       "       [0.42416871],\n",
       "       [0.33090028],\n",
       "       [0.366991  ],\n",
       "       [0.34266008],\n",
       "       [0.27777781],\n",
       "       [0.32968358],\n",
       "       [0.3390105 ],\n",
       "       [0.30616371],\n",
       "       [0.28061635],\n",
       "       [0.22952137],\n",
       "       [0.15774506],\n",
       "       [0.17842664],\n",
       "       [0.25223044],\n",
       "       [0.29683704],\n",
       "       [0.29034866],\n",
       "       [0.2060015 ],\n",
       "       [0.20072982],\n",
       "       [0.15652862],\n",
       "       [0.21086778],\n",
       "       [0.19626893],\n",
       "       [0.20154112],\n",
       "       [0.2343874 ],\n",
       "       [0.2931872 ],\n",
       "       [0.3077858 ],\n",
       "       [0.34549888],\n",
       "       [0.28872682],\n",
       "       [0.20154112],\n",
       "       [0.25385229],\n",
       "       [0.20235166],\n",
       "       [0.42660185],\n",
       "       [0.52433092],\n",
       "       [0.43390102],\n",
       "       [0.25263584],\n",
       "       [0.26561235],\n",
       "       [0.26034067],\n",
       "       [0.17599325],\n",
       "       [0.05555536],\n",
       "       [0.04095676],\n",
       "       [0.00689365],\n",
       "       [0.        ],\n",
       "       [0.0961071 ],\n",
       "       [0.04095676],\n",
       "       [0.04420095],\n",
       "       [0.05150025],\n",
       "       [0.07583129],\n",
       "       [0.05636641],\n",
       "       [0.13260335],\n",
       "       [0.16666658],\n",
       "       [0.17356036],\n",
       "       [0.21370632],\n",
       "       [0.10867783],\n",
       "       [0.26317895],\n",
       "       [0.2652067 ],\n",
       "       [0.25587978],\n",
       "       [0.33090028],\n",
       "       [0.5133819 ],\n",
       "       [0.52270857],\n",
       "       [0.52879155],\n",
       "       [0.56853212],\n",
       "       [0.55514996],\n",
       "       [0.56001625],\n",
       "       [0.54257911],\n",
       "       [0.56082729],\n",
       "       [0.46796426],\n",
       "       [0.46147613],\n",
       "       [0.59042989],\n",
       "       [0.61638291],\n",
       "       [0.65936741],\n",
       "       [0.64639065],\n",
       "       [0.66707249],\n",
       "       [0.65044614],\n",
       "       [0.70559635],\n",
       "       [0.70073007],\n",
       "       [0.766018  ],\n",
       "       [0.81265209],\n",
       "       [0.75223044],\n",
       "       [0.72506073],\n",
       "       [0.70681255],\n",
       "       [0.75223044],\n",
       "       [0.70640715],\n",
       "       [0.57502024],\n",
       "       [0.54825644],\n",
       "       [0.52149238],\n",
       "       [0.51662609],\n",
       "       [0.5900245 ],\n",
       "       [0.6768043 ],\n",
       "       [0.67112747],\n",
       "       [0.67964309],\n",
       "       [0.6313869 ],\n",
       "       [0.64111922],\n",
       "       [0.71978931],\n",
       "       [0.6755881 ],\n",
       "       [0.66788328],\n",
       "       [0.65490677],\n",
       "       [0.71492302],\n",
       "       [0.69180855],\n",
       "       [0.68653687]])"
      ]
     },
     "execution_count": 61,
     "metadata": {},
     "output_type": "execute_result"
    }
   ],
   "source": [
    "import numpy as np\n",
    "final_stock = np.array(final_stock).reshape(-1,1)\n",
    "input_data = scaler.fit_transform(final_stock)\n",
    "input_data\n"
   ]
  },
  {
   "cell_type": "code",
   "execution_count": 62,
   "id": "2e303be7",
   "metadata": {},
   "outputs": [
    {
     "data": {
      "text/plain": [
       "(173, 1)"
      ]
     },
     "execution_count": 62,
     "metadata": {},
     "output_type": "execute_result"
    }
   ],
   "source": [
    "input_data.shape"
   ]
  },
  {
   "cell_type": "code",
   "execution_count": 63,
   "id": "43a74bf9",
   "metadata": {},
   "outputs": [],
   "source": [
    "x_test = []\n",
    "y_test = []\n",
    "\n",
    "for i in range(100, input_data.shape[0]):\n",
    "    x_test.append(input_data[i-100: i])\n",
    "    y_test.append(input_data[i, 0])"
   ]
  },
  {
   "cell_type": "code",
   "execution_count": 64,
   "id": "0ccf57d0",
   "metadata": {},
   "outputs": [
    {
     "name": "stdout",
     "output_type": "stream",
     "text": [
      "(73, 100, 1)\n",
      "(73,)\n"
     ]
    }
   ],
   "source": [
    "x_test, y_test = np.array(x_test), np.array(y_test)\n",
    "print(x_test.shape)\n",
    "print(y_test.shape)"
   ]
  },
  {
   "cell_type": "code",
   "execution_count": 65,
   "id": "8b1d9d4c",
   "metadata": {},
   "outputs": [
    {
     "name": "stdout",
     "output_type": "stream",
     "text": [
      "3/3 [==============================] - 1s 64ms/step\n"
     ]
    }
   ],
   "source": [
    "#Making Predictions\n",
    "\n",
    "y_predicted = model.predict(x_test)"
   ]
  },
  {
   "cell_type": "code",
   "execution_count": 66,
   "id": "46ae2a0b",
   "metadata": {},
   "outputs": [
    {
     "data": {
      "text/plain": [
       "(73, 1)"
      ]
     },
     "execution_count": 66,
     "metadata": {},
     "output_type": "execute_result"
    }
   ],
   "source": [
    "y_predicted.shape"
   ]
  },
  {
   "cell_type": "code",
   "execution_count": 67,
   "id": "6f8e0359",
   "metadata": {},
   "outputs": [
    {
     "data": {
      "text/plain": [
       "array([0.34549888, 0.28872682, 0.20154112, 0.25385229, 0.20235166,\n",
       "       0.42660185, 0.52433092, 0.43390102, 0.25263584, 0.26561235,\n",
       "       0.26034067, 0.17599325, 0.05555536, 0.04095676, 0.00689365,\n",
       "       0.        , 0.0961071 , 0.04095676, 0.04420095, 0.05150025,\n",
       "       0.07583129, 0.05636641, 0.13260335, 0.16666658, 0.17356036,\n",
       "       0.21370632, 0.10867783, 0.26317895, 0.2652067 , 0.25587978,\n",
       "       0.33090028, 0.5133819 , 0.52270857, 0.52879155, 0.56853212,\n",
       "       0.55514996, 0.56001625, 0.54257911, 0.56082729, 0.46796426,\n",
       "       0.46147613, 0.59042989, 0.61638291, 0.65936741, 0.64639065,\n",
       "       0.66707249, 0.65044614, 0.70559635, 0.70073007, 0.766018  ,\n",
       "       0.81265209, 0.75223044, 0.72506073, 0.70681255, 0.75223044,\n",
       "       0.70640715, 0.57502024, 0.54825644, 0.52149238, 0.51662609,\n",
       "       0.5900245 , 0.6768043 , 0.67112747, 0.67964309, 0.6313869 ,\n",
       "       0.64111922, 0.71978931, 0.6755881 , 0.66788328, 0.65490677,\n",
       "       0.71492302, 0.69180855, 0.68653687])"
      ]
     },
     "execution_count": 67,
     "metadata": {},
     "output_type": "execute_result"
    }
   ],
   "source": [
    "y_test"
   ]
  },
  {
   "cell_type": "code",
   "execution_count": 68,
   "id": "c2f25507",
   "metadata": {},
   "outputs": [
    {
     "data": {
      "text/plain": [
       "array([[0.15106928],\n",
       "       [0.1594037 ],\n",
       "       [0.17102723],\n",
       "       [0.18532869],\n",
       "       [0.20160912],\n",
       "       [0.2188517 ],\n",
       "       [0.23713674],\n",
       "       [0.25727233],\n",
       "       [0.27972797],\n",
       "       [0.30351773],\n",
       "       [0.32726038],\n",
       "       [0.34958884],\n",
       "       [0.36889318],\n",
       "       [0.3832174 ],\n",
       "       [0.39104143],\n",
       "       [0.391506  ],\n",
       "       [0.3845993 ],\n",
       "       [0.37139782],\n",
       "       [0.3532926 ],\n",
       "       [0.33210108],\n",
       "       [0.30947486],\n",
       "       [0.28679678],\n",
       "       [0.26516786],\n",
       "       [0.2454202 ],\n",
       "       [0.22811218],\n",
       "       [0.21358193],\n",
       "       [0.2020909 ],\n",
       "       [0.19359338],\n",
       "       [0.18850693],\n",
       "       [0.18726571],\n",
       "       [0.19009487],\n",
       "       [0.19720787],\n",
       "       [0.2092786 ],\n",
       "       [0.22688498],\n",
       "       [0.25027844],\n",
       "       [0.27925757],\n",
       "       [0.31304514],\n",
       "       [0.35047528],\n",
       "       [0.39018023],\n",
       "       [0.43081436],\n",
       "       [0.47058174],\n",
       "       [0.5077551 ],\n",
       "       [0.5417416 ],\n",
       "       [0.57255864],\n",
       "       [0.60065943],\n",
       "       [0.626438  ],\n",
       "       [0.65026546],\n",
       "       [0.6722315 ],\n",
       "       [0.6926185 ],\n",
       "       [0.71156704],\n",
       "       [0.72950864],\n",
       "       [0.74704546],\n",
       "       [0.7641248 ],\n",
       "       [0.7802052 ],\n",
       "       [0.79449534],\n",
       "       [0.80660087],\n",
       "       [0.8159733 ],\n",
       "       [0.8212337 ],\n",
       "       [0.8211193 ],\n",
       "       [0.81474936],\n",
       "       [0.8018619 ],\n",
       "       [0.7834531 ],\n",
       "       [0.761654  ],\n",
       "       [0.73860186],\n",
       "       [0.7161573 ],\n",
       "       [0.6953497 ],\n",
       "       [0.67680275],\n",
       "       [0.6613283 ],\n",
       "       [0.6491773 ],\n",
       "       [0.6402301 ],\n",
       "       [0.634071  ],\n",
       "       [0.6305711 ],\n",
       "       [0.62942857]], dtype=float32)"
      ]
     },
     "execution_count": 68,
     "metadata": {},
     "output_type": "execute_result"
    }
   ],
   "source": [
    "y_predicted"
   ]
  },
  {
   "cell_type": "code",
   "execution_count": 69,
   "id": "8d1a2cb7",
   "metadata": {},
   "outputs": [
    {
     "data": {
      "text/plain": [
       "array([0.00831292])"
      ]
     },
     "execution_count": 69,
     "metadata": {},
     "output_type": "execute_result"
    }
   ],
   "source": [
    "scaler.scale_"
   ]
  },
  {
   "cell_type": "code",
   "execution_count": 70,
   "id": "a821cf3f",
   "metadata": {},
   "outputs": [],
   "source": [
    "scale_factor = 1/0.00257832\n",
    "y_predicted = y_predicted * scale_factor\n",
    "y_test = y_test * scale_factor"
   ]
  },
  {
   "cell_type": "code",
   "execution_count": 71,
   "id": "48c70e4d",
   "metadata": {},
   "outputs": [
    {
     "data": {
      "image/png": "[encoded data removed]",
      "text/plain": [
       "<Figure size 1200x600 with 1 Axes>"
      ]
     },
     "metadata": {},
     "output_type": "display_data"
    }
   ],
   "source": [
    "plt.figure(figsize=(12, 6))\n",
    "plt.plot(y_test, 'b', label = 'Original Price')\n",
    "plt.plot(y_predicted, 'r', label = 'Predicted Price ')\n",
    "plt.xlabel('Time')\n",
    "plt.ylabel('Price')\n",
    "plt.legend()\n",
    "plt.show()"
   ]
  },
  {
   "cell_type": "code",
   "execution_count": null,
   "id": "fa747b53",
   "metadata": {},
   "outputs": [],
   "source": []
  }
 ],
 "metadata": {
  "kernelspec": {
   "display_name": "Python 3 (ipykernel)",
   "language": "python",
   "name": "python3"
  },
  "language_info": {
   "codemirror_mode": {
    "name": "ipython",
    "version": 3
   },
   "file_extension": ".py",
   "mimetype": "text/x-python",
   "name": "python",
   "nbconvert_exporter": "python",
   "pygments_lexer": "ipython3",
   "version": "3.11.3"
  },
  "vscode": {
   "interpreter": {
    "hash": "bb405641250c714d19b2e5499f8378664584716773c5c94996d90a9ebcd534a0"
   }
  }
 },
 "nbformat": 4,
 "nbformat_minor": 5
}
